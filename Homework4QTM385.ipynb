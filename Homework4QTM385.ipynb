{
 "cells": [
  {
   "cell_type": "markdown",
   "metadata": {},
   "source": [
    "# QTM 385\n",
    "\n",
    "***\n",
    "\n",
    "## Homework 4\n",
    "\n",
    "Student: [Daoyang E]"
   ]
  },
  {
   "cell_type": "markdown",
   "metadata": {},
   "source": [
    "In this homework, we will create an object called Student, that is useful for a professor to store information about a student."
   ]
  },
  {
   "cell_type": "markdown",
   "metadata": {},
   "source": [
    "\n",
    "***\n",
    "\n",
    "### Question 1\n",
    "\n",
    "Create a class Student, that has:\n",
    "\n",
    "0. Id number (5-digits integer, starting with 1)\n",
    "1. First Name (str)\n",
    "2. Last Name (str)\n",
    "3. Grades (list of floats)\n",
    "4. Credits (list of integers)\n",
    "5. Major (str)\n",
    "\n",
    "Provide a constructor for your class and create one fictitious student."
   ]
  },
  {
   "cell_type": "code",
   "execution_count": 1,
   "metadata": {},
   "outputs": [],
   "source": [
    "# Your answer here\n",
    "class Student:\n",
    "    # My constructor for the student class\n",
    "    def __init__(self,ID, firstname, lastname,grades, credit, major):\n",
    "        self.ID = ID\n",
    "        self.first = firstname\n",
    "        self.last = lastname\n",
    "        self.grades = grades\n",
    "        self.credit = credit\n",
    "        self.major = major"
   ]
  },
  {
   "cell_type": "code",
   "execution_count": 2,
   "metadata": {},
   "outputs": [],
   "source": [
    "stu = Student(12345, 'Daoyang','E',[9.5,9.5,9.0],[1,2,3],'AMS')"
   ]
  },
  {
   "cell_type": "markdown",
   "metadata": {},
   "source": [
    "\n",
    "***\n",
    "\n",
    "### Question 2\n",
    "\n",
    "Create a method to nicely display the student when we type `print`. It should display, for example:\n",
    "\n",
    "```\n",
    "Student:\n",
    "    Id: 12345\n",
    "    Name: Mig, Umberto\n",
    "    Major: QSS\n",
    "```\n",
    "\n",
    "Create a method that, when a variable storing a student is typed in the console, displays:\n",
    "\n",
    "```\n",
    "Student(Mig, Umberto; 12345)\n",
    "```\n",
    "\n",
    "Provide some testing with a fictitious result of your choice."
   ]
  },
  {
   "cell_type": "code",
   "execution_count": 3,
   "metadata": {},
   "outputs": [],
   "source": [
    "# Your answer here\n",
    "class Student:\n",
    "    # My constructor for the student class\n",
    "    def __init__(self,ID, firstname, lastname,grades, credit, major):\n",
    "        self.ID = ID\n",
    "        self.first = firstname\n",
    "        self.last = lastname\n",
    "        self.grades = grades\n",
    "        self.credit = credit\n",
    "        self.major = major\n",
    "        \n",
    "    def __str__(self):\n",
    "        st_info = \"\"\"\n",
    "        Student:\n",
    "            ID:{id1}\n",
    "            Name:{name1},{name2}\n",
    "            Major:{major1}\n",
    "            \"\"\".format(id1 = self.ID, name1 = self.first, name2 = self.last,major1 = self.major)\n",
    "        return st_info\n",
    "    \n",
    "    def __repr__(self):\n",
    "        return \"Student ({firstname1},{lastname1}; {id})\".format(firstname1 = self.first,lastname1 = self.last, id = self.ID)"
   ]
  },
  {
   "cell_type": "code",
   "execution_count": 4,
   "metadata": {},
   "outputs": [],
   "source": [
    "stu = Student(12345, 'Daoyang','E',[9.5,9.5,9.0],[1,2,3],'AMS')"
   ]
  },
  {
   "cell_type": "code",
   "execution_count": 5,
   "metadata": {},
   "outputs": [
    {
     "data": {
      "text/plain": [
       "Student (Daoyang,E; 12345)"
      ]
     },
     "execution_count": 5,
     "metadata": {},
     "output_type": "execute_result"
    }
   ],
   "source": [
    "stu"
   ]
  },
  {
   "cell_type": "code",
   "execution_count": 6,
   "metadata": {},
   "outputs": [
    {
     "name": "stdout",
     "output_type": "stream",
     "text": [
      "\n",
      "        Student:\n",
      "            ID:12345\n",
      "            Name:Daoyang,E\n",
      "            Major:AMS\n",
      "            \n"
     ]
    }
   ],
   "source": [
    "print(stu)"
   ]
  },
  {
   "cell_type": "markdown",
   "metadata": {},
   "source": [
    "\n",
    "***\n",
    "\n",
    "### Question 3\n",
    "\n",
    "Implement class methods for:\n",
    "\n",
    "1. Check if the id number is valid (remember: 5 digits, starting with number one)\n",
    "2. Check if the grades list has the same length as the credits list. The idea is that every grade corresponds to a course that gave the student a certain amount of credits.\n",
    "3. Append grade and credit: given a grade, and credits attached to the grade, append both to each respective place.\n",
    "\n",
    "Test your function with a toy student of your choice."
   ]
  },
  {
   "cell_type": "code",
   "execution_count": 7,
   "metadata": {},
   "outputs": [],
   "source": [
    "# Your answer here\n",
    "class Student:\n",
    "    # My constructor for the student class\n",
    "    def __init__(self,ID, firstname, lastname,grades, credit, major):\n",
    "        self.ID = ID\n",
    "        self.first = firstname\n",
    "        self.last = lastname\n",
    "        self.grades = grades\n",
    "        self.credit = credit\n",
    "        self.major = major\n",
    "        \n",
    "    def __str__(self):\n",
    "        st_info = \"\"\"\n",
    "        Student:\n",
    "            ID:{id1}\n",
    "            Name:{name1},{name2}\n",
    "            Major:{major1}\n",
    "            \"\"\".format(id1 = self.ID, name1 = self.first, name2 = self.last,major1 = self.major)\n",
    "        return st_info\n",
    "    \n",
    "    def __repr__(self):\n",
    "        return \"Student ({firstname1},{lastname1}; {id})\".format(firstname1 = self.first,lastname1 = self.last, id = self.ID)\n",
    "    \n",
    "    def validID(self):\n",
    "        IDcheck = str(self.ID)\n",
    "        if IDcheck[0] == '1' and len(IDcheck) == 5:\n",
    "            print('Valid ID')\n",
    "        else:\n",
    "            print('ID not valid, there are ' + str(len(IDcheck)) + ' digits and the first number is ' + str(IDcheck[0]) )\n",
    "        \n",
    "    def grade_credit(self):\n",
    "        if len(self.grades) != len(self.credit):\n",
    "            print('grades list does not have the same length as the credits list')\n",
    "        else:\n",
    "            print('grades list has the same length as the credits list')"
   ]
  },
  {
   "cell_type": "code",
   "execution_count": 8,
   "metadata": {},
   "outputs": [],
   "source": [
    "stu = Student(123456, 'Daoyang','E',[9.5,9.5,9.0],[1,2,3],'AMS')\n",
    "stu1 = Student(12345, 'Daoyang','E',[9.5,9.5,9.0],[1,2,3],'AMS')\n",
    "stu2 = Student(22345, 'Daoyang','E',[9.5,9.5,9.0,9.0],[1,2,3],'AMS')\n",
    "stu3 = Student(223456, 'Daoyang','E',[9.5,9.5,9.0],[1,2,3,4],'AMS')"
   ]
  },
  {
   "cell_type": "code",
   "execution_count": 9,
   "metadata": {},
   "outputs": [
    {
     "name": "stdout",
     "output_type": "stream",
     "text": [
      "ID not valid, there are 6 digits and the first number is 1\n",
      "Valid ID\n",
      "ID not valid, there are 5 digits and the first number is 2\n",
      "ID not valid, there are 6 digits and the first number is 2\n"
     ]
    }
   ],
   "source": [
    "stu.validID()\n",
    "stu1.validID()\n",
    "stu2.validID()\n",
    "stu3.validID()"
   ]
  },
  {
   "cell_type": "code",
   "execution_count": 10,
   "metadata": {},
   "outputs": [
    {
     "name": "stdout",
     "output_type": "stream",
     "text": [
      "grades list has the same length as the credits list\n",
      "grades list does not have the same length as the credits list\n",
      "grades list does not have the same length as the credits list\n"
     ]
    }
   ],
   "source": [
    "stu.grade_credit()\n",
    "stu2.grade_credit()\n",
    "stu3.grade_credit()"
   ]
  },
  {
   "cell_type": "markdown",
   "metadata": {},
   "source": [
    "\n",
    "***\n",
    "\n",
    "### Question 4\n",
    "\n",
    "Create a module in the class Student that computes the unweighted average of the student's grades."
   ]
  },
  {
   "cell_type": "code",
   "execution_count": 11,
   "metadata": {},
   "outputs": [],
   "source": [
    "# Your answer here\n",
    "class Student:\n",
    "    # My constructor for the student class\n",
    "    def __init__(self,ID, firstname, lastname,grades, credit, major):\n",
    "        self.ID = ID\n",
    "        self.first = firstname\n",
    "        self.last = lastname\n",
    "        self.grades = grades\n",
    "        self.credit = credit\n",
    "        self.major = major\n",
    "        \n",
    "    def __str__(self):\n",
    "        st_info = \"\"\"\n",
    "        Student:\n",
    "            ID:{id1}\n",
    "            Name:{name1},{name2}\n",
    "            Major:{major1}\n",
    "            \"\"\".format(id1 = self.ID, name1 = self.first, name2 = self.last,major1 = self.major)\n",
    "        return st_info\n",
    "    \n",
    "    def __repr__(self):\n",
    "        return \"Student ({firstname1},{lastname1}; {id})\".format(firstname1 = self.first,lastname1 = self.last, id = self.ID)\n",
    "    \n",
    "    def validID(self):\n",
    "        IDcheck = str(self.ID)\n",
    "        if IDcheck[0] == '1' and len(IDcheck) == 5:\n",
    "            print('Valid ID')\n",
    "        else:\n",
    "            print('ID not valid, there are ' + str(len(IDcheck)) + ' digits and the first number is ' + str(IDcheck[0]) )\n",
    "        \n",
    "    def grade_credit(self):\n",
    "        if len(self.grades) != len(self.credit):\n",
    "            print('grades list does not have the same length as the credits list')\n",
    "        else:\n",
    "            print('grades list has the same length as the credits list')\n",
    "            \n",
    "    def unweighted_average(self):\n",
    "        avg = 0\n",
    "        for i in self.grades:\n",
    "            avg += i\n",
    "        avg = avg/len(self.grades)\n",
    "        return avg    "
   ]
  },
  {
   "cell_type": "code",
   "execution_count": 12,
   "metadata": {},
   "outputs": [],
   "source": [
    "stu = Student(123456, 'Daoyang','E',[9.5,9.5,9.0],[1,2,3],'AMS')"
   ]
  },
  {
   "cell_type": "code",
   "execution_count": 13,
   "metadata": {},
   "outputs": [
    {
     "data": {
      "text/plain": [
       "9.333333333333334"
      ]
     },
     "execution_count": 13,
     "metadata": {},
     "output_type": "execute_result"
    }
   ],
   "source": [
    "stu.unweighted_average()"
   ]
  },
  {
   "cell_type": "markdown",
   "metadata": {},
   "source": [
    "\n",
    "***\n",
    "\n",
    "### Question 5\n",
    "\n",
    "Create a module in the class Student that computes the weighted average of the student's grades, weighted by the credits."
   ]
  },
  {
   "cell_type": "code",
   "execution_count": 14,
   "metadata": {},
   "outputs": [],
   "source": [
    "# Your answer here\n",
    "class Student:\n",
    "    # My constructor for the student class\n",
    "    def __init__(self,ID, firstname, lastname,grades, credit, major):\n",
    "        self.ID = ID\n",
    "        self.first = firstname\n",
    "        self.last = lastname\n",
    "        self.grades = grades\n",
    "        self.credit = credit\n",
    "        self.major = major\n",
    "        \n",
    "    def __str__(self):\n",
    "        st_info = \"\"\"\n",
    "        Student:\n",
    "            ID:{id1}\n",
    "            Name:{name1},{name2}\n",
    "            Major:{major1}\n",
    "            \"\"\".format(id1 = self.ID, name1 = self.first, name2 = self.last,major1 = self.major)\n",
    "        return st_info\n",
    "    \n",
    "    def __repr__(self):\n",
    "        return \"Student ({firstname1},{lastname1}; {id})\".format(firstname1 = self.first,lastname1 = self.last, id = self.ID)\n",
    "    \n",
    "    def validID(self):\n",
    "        IDcheck = str(self.ID)\n",
    "        if IDcheck[0] == '1' and len(IDcheck) == 5:\n",
    "            print('Valid ID')\n",
    "        else:\n",
    "            print('ID not valid, there are ' + str(len(IDcheck)) + ' digits and the first number is ' + str(IDcheck[0]) )\n",
    "        \n",
    "    def grade_credit(self):\n",
    "        if len(self.grades) != len(self.credit):\n",
    "            print('grades list does not have the same length as the credits list')\n",
    "        else:\n",
    "            print('grades list has the same length as the credits list')\n",
    "            \n",
    "    def unweighted_average(self):\n",
    "        avg = 0\n",
    "        for i in self.grades:\n",
    "            avg += i\n",
    "        avg = avg/len(self.grades)\n",
    "        return avg    \n",
    "    \n",
    "    def weighted_average(self):\n",
    "        avg = 0\n",
    "        i = 0\n",
    "        while i < len(self.grades):\n",
    "            avg += self.grades[i] * self.credit[i]\n",
    "            i += 1\n",
    "        avg = avg/len(self.grades)\n",
    "        return avg  "
   ]
  },
  {
   "cell_type": "code",
   "execution_count": 15,
   "metadata": {},
   "outputs": [
    {
     "data": {
      "text/plain": [
       "18.5"
      ]
     },
     "execution_count": 15,
     "metadata": {},
     "output_type": "execute_result"
    }
   ],
   "source": [
    "stu = Student(123456, 'Daoyang','E',[9.5,9.5,9.0],[1,2,3],'AMS')\n",
    "stu.weighted_average()"
   ]
  },
  {
   "cell_type": "markdown",
   "metadata": {},
   "source": [
    "**That's all, folks!**"
   ]
  }
 ],
 "metadata": {
  "kernelspec": {
   "display_name": "Python 3",
   "language": "python",
   "name": "python3"
  },
  "language_info": {
   "codemirror_mode": {
    "name": "ipython",
    "version": 3
   },
   "file_extension": ".py",
   "mimetype": "text/x-python",
   "name": "python",
   "nbconvert_exporter": "python",
   "pygments_lexer": "ipython3",
   "version": "3.8.3"
  }
 },
 "nbformat": 4,
 "nbformat_minor": 4
}
