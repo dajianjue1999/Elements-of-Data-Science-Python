{
 "cells": [
  {
   "cell_type": "markdown",
   "metadata": {},
   "source": [
    "GROUP 2 question 1\n",
    "Write a python function that reverses the digits in an integer. (E.g., 123 becomes 321)."
   ]
  },
  {
   "cell_type": "code",
   "execution_count": 1,
   "metadata": {},
   "outputs": [],
   "source": [
    "def reverse():\n",
    "    strnumber = input('ENTER YOUR INTEGER HERE: ')\n",
    "    if '.' in strnumber:\n",
    "        print('Please type in an integer')\n",
    "        reverse()\n",
    "    else:    \n",
    "        number = int(strnumber)\n",
    "        str_num = str(number)\n",
    "        list_num = list(str_num)\n",
    "        len_list = len(list_num)\n",
    "        rever_list = []\n",
    "        i = 0\n",
    "        while i < len_list:\n",
    "            rever_list.append(list_num[len_list - i - 1])\n",
    "            i += 1\n",
    "        rever_str = \"\".join(rever_list)\n",
    "        rever_num = int(rever_str)\n",
    "        print(rever_num)"
   ]
  },
  {
   "cell_type": "code",
   "execution_count": 2,
   "metadata": {},
   "outputs": [
    {
     "name": "stdout",
     "output_type": "stream",
     "text": [
      "ENTER YOUR INTEGER HERE: 123\n",
      "321\n"
     ]
    }
   ],
   "source": [
    "reverse()"
   ]
  },
  {
   "cell_type": "markdown",
   "metadata": {},
   "source": [
    "Write a python function that takes a list of distinct integers and returns the second largest number in the list."
   ]
  },
  {
   "cell_type": "code",
   "execution_count": 1,
   "metadata": {},
   "outputs": [],
   "source": [
    "def checker(list):\n",
    "    temp = input('Enter your integer here: ')\n",
    "    if '.' in temp:\n",
    "        print('Please type in an integer')\n",
    "        checker(list)\n",
    "    elif int(temp) in list:\n",
    "        print('Please type in a distinct integer')\n",
    "        checker(list)\n",
    "    else:\n",
    "        list.append(int(temp))\n",
    "        print(list)\n",
    "        return list\n",
    "        \n",
    "def looping(list):\n",
    "    checker(list)\n",
    "    check = input('Do you have more integer to type in? Y or N: ')\n",
    "    if check == \"Y\":\n",
    "        looping(list)\n",
    "    else:\n",
    "        print(list)\n",
    "        exit()\n",
    "        \n",
    "def secondlargest():\n",
    "    list1 = []\n",
    "    looping(list1)\n",
    "    list1.sort(reverse=True)\n",
    "    return list1[1]"
   ]
  },
  {
   "cell_type": "code",
   "execution_count": 2,
   "metadata": {},
   "outputs": [
    {
     "name": "stdout",
     "output_type": "stream",
     "text": [
      "Enter your integer here: 123\n",
      "[123]\n",
      "Do you have more integer to type in? Y or N: Y\n",
      "Enter your integer here: 321\n",
      "[123, 321]\n",
      "Do you have more integer to type in? Y or N: N\n",
      "[123, 321]\n"
     ]
    },
    {
     "data": {
      "text/plain": [
       "123"
      ]
     },
     "execution_count": 2,
     "metadata": {},
     "output_type": "execute_result"
    }
   ],
   "source": [
    "secondlargest()"
   ]
  },
  {
   "cell_type": "code",
   "execution_count": null,
   "metadata": {},
   "outputs": [],
   "source": []
  }
 ],
 "metadata": {
  "kernelspec": {
   "display_name": "Python 3",
   "language": "python",
   "name": "python3"
  },
  "language_info": {
   "codemirror_mode": {
    "name": "ipython",
    "version": 3
   },
   "file_extension": ".py",
   "mimetype": "text/x-python",
   "name": "python",
   "nbconvert_exporter": "python",
   "pygments_lexer": "ipython3",
   "version": "3.8.3"
  }
 },
 "nbformat": 4,
 "nbformat_minor": 4
}
